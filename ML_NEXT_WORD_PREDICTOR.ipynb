{
 "cells": [
  {
   "cell_type": "code",
   "execution_count": 1,
   "metadata": {},
   "outputs": [],
   "source": [
    "import numpy as np\n",
    "np.random.seed(42)\n",
    "import tensorflow as tf\n",
    "gpu_devices = tf.config.experimental.list_physical_devices(\"GPU\")\n",
    "for device in gpu_devices:\n",
    "    tf.config.experimental.set_memory_growth(device, True)\n",
    "\n",
    "\n",
    "tf.random.set_seed(42)\n",
    "from keras.models import Sequential, load_model\n",
    "from keras.layers import Dense, Activation\n",
    "from keras.layers import LSTM, Dropout\n",
    "from keras.layers import TimeDistributed\n",
    "from keras.layers.core import Dense, Activation, Dropout, RepeatVector\n",
    "from keras.optimizers import RMSprop\n",
    "import matplotlib.pyplot as plt\n",
    "import pickle\n",
    "import sys\n",
    "import heapq\n",
    "import seaborn as sns\n",
    "from pylab import rcParams\n",
    "from nltk.tokenize import RegexpTokenizer\n",
    "\n",
    "%matplotlib inline\n",
    "\n",
    "sns.set(style='whitegrid', palette='muted', font_scale=1.5)\n",
    "\n",
    "rcParams['figure.figsize'] = 12, 5"
   ]
  },
  {
   "cell_type": "code",
   "execution_count": 2,
   "metadata": {},
   "outputs": [
    {
     "name": "stdout",
     "output_type": "stream",
     "text": [
      "WARNING:tensorflow:From <ipython-input-2-a3168269b5ce>:2: is_gpu_available (from tensorflow.python.framework.test_util) is deprecated and will be removed in a future version.\n",
      "Instructions for updating:\n",
      "Use `tf.config.list_physical_devices('GPU')` instead.\n",
      "True\n",
      "True\n"
     ]
    }
   ],
   "source": [
    "import tensorflow as tf\n",
    "print(tf.test.is_gpu_available())\n",
    "print(tf.test.is_built_with_cuda())"
   ]
  },
  {
   "cell_type": "code",
   "execution_count": 3,
   "metadata": {},
   "outputs": [
    {
     "name": "stdout",
     "output_type": "stream",
     "text": [
      "<class 'str'>\n",
      "corpus length: 1082899\n",
      "corpus length: 1082899\n"
     ]
    }
   ],
   "source": [
    "import os\n",
    "#os.environ[\"CUDA_VISIBLE_DEVICES\"] = \"-1\"\n",
    "path = 'ml_text_file.txt'\n",
    "path3 = 'hp1.txt'\n",
    "text1 = open(path , errors='ignore').read().lower()\n",
    "#text2 = open(path2 , errors='ignore').read().lower()\n",
    "text3 = open(path3 , errors='ignore').read().lower()\n",
    "text = text1 + text3\n",
    "print(type(text)) \n",
    "# print(text)\n",
    "print('corpus length:', len(text))\n",
    "\n",
    "\n",
    " \n",
    "\n",
    "print('corpus length:', len(text))"
   ]
  },
  {
   "cell_type": "code",
   "execution_count": 4,
   "metadata": {},
   "outputs": [
    {
     "name": "stdout",
     "output_type": "stream",
     "text": [
      "unique chars: 78\n"
     ]
    }
   ],
   "source": [
    "chars = sorted(list(set(text)))\n",
    "char_indices = dict((c, i) for i, c in enumerate(chars))\n",
    "indices_char = dict((i, c) for i, c in enumerate(chars))\n",
    "\n",
    "print(f'unique chars: {len(chars)}')"
   ]
  },
  {
   "cell_type": "code",
   "execution_count": 5,
   "metadata": {},
   "outputs": [
    {
     "name": "stdout",
     "output_type": "stream",
     "text": [
      "num training examples: 360953\n"
     ]
    }
   ],
   "source": [
    "SEQUENCE_LENGTH = 40\n",
    "step = 3\n",
    "sentences = []\n",
    "next_chars = []\n",
    "for i in range(0, len(text) - SEQUENCE_LENGTH, step):\n",
    "    sentences.append(text[i: i + SEQUENCE_LENGTH])\n",
    "    next_chars.append(text[i + SEQUENCE_LENGTH])\n",
    "print(f'num training examples: {len(sentences)}')"
   ]
  },
  {
   "cell_type": "code",
   "execution_count": 6,
   "metadata": {},
   "outputs": [],
   "source": [
    "X = np.zeros((len(sentences), SEQUENCE_LENGTH, len(chars)), dtype=np.bool)\n",
    "y = np.zeros((len(sentences), len(chars)), dtype=np.bool)\n",
    "for i, sentence in enumerate(sentences):\n",
    "    for t, char in enumerate(sentence):\n",
    "        X[i, t, char_indices[char]] = 1\n",
    "    y[i, char_indices[next_chars[i]]] = 1"
   ]
  },
  {
   "cell_type": "code",
   "execution_count": 11,
   "metadata": {},
   "outputs": [
    {
     "name": "stdout",
     "output_type": "stream",
     "text": [
      "49\n"
     ]
    }
   ],
   "source": [
    "print(len(X)%52)"
   ]
  },
  {
   "cell_type": "code",
   "execution_count": 7,
   "metadata": {},
   "outputs": [],
   "source": [
    "    from keras.callbacks import ModelCheckpoint, EarlyStopping\n",
    "    from keras.layers import Dense, Activation, Dropout\n",
    "    from keras.layers import LSTM, Input, Flatten, Bidirectional\n",
    "    from keras.layers.normalization import BatchNormalization\n",
    "    from keras.optimizers import Adam\n",
    "    model = Sequential()\n",
    "    #model.add(Bidirectional(LSTM(128, activation=\"relu\",return_sequences=True),input_shape=(SEQUENCE_LENGTH, len(chars))))\n",
    "    model.add(Bidirectional(LSTM(256,return_sequences=True),input_shape=(SEQUENCE_LENGTH, len(chars))))\n",
    "    #model.add(Bidirectional(LSTM(128, activation=\"relu\",return_sequences=True,batch_input_shape=(SEQUENCE_LENGTH+12, 8,16))))\n",
    "    model.add(Bidirectional(LSTM(256)))\n",
    "    model.add(Dropout(0.6))\n",
    "    model.add(Dense(len(chars)))\n",
    "    model.add(Activation('softmax'))\n",
    "    \n",
    "    optimizer = Adam(lr=0.001)\n",
    "    #optimizer = RMSprop(lr=0.01)\n",
    "    #callbacks=[EarlyStopping(patience=2, monitor='val_loss')]\n",
    "    #model.compile(loss='categorical_crossentropy', optimizer=optimizer, metrics=['accuracy'])"
   ]
  },
  {
   "cell_type": "code",
   "execution_count": 8,
   "metadata": {},
   "outputs": [],
   "source": [
    "from tensorflow.keras.callbacks import ModelCheckpoint\n",
    "from tensorflow.keras.callbacks import ReduceLROnPlateau\n",
    "from tensorflow.keras.callbacks import TensorBoard\n",
    "\n",
    "checkpoint = ModelCheckpoint(\"nextword4.h5\", monitor='loss', verbose=1,\n",
    "    save_best_only=True, mode='auto')\n",
    "\n",
    "reduce = ReduceLROnPlateau(monitor='loss', factor=0.1, patience=3, verbose = 1)\n",
    "\n",
    "logdir='logsnextword2'\n",
    "tensorboard_Visualization = TensorBoard(log_dir=logdir)"
   ]
  },
  {
   "cell_type": "code",
   "execution_count": 9,
   "metadata": {},
   "outputs": [
    {
     "name": "stdout",
     "output_type": "stream",
     "text": [
      "Model: \"sequential\"\n",
      "_________________________________________________________________\n",
      "Layer (type)                 Output Shape              Param #   \n",
      "=================================================================\n",
      "bidirectional (Bidirectional (None, 40, 512)           686080    \n",
      "_________________________________________________________________\n",
      "bidirectional_1 (Bidirection (None, 512)               1574912   \n",
      "_________________________________________________________________\n",
      "dropout (Dropout)            (None, 512)               0         \n",
      "_________________________________________________________________\n",
      "dense (Dense)                (None, 78)                40014     \n",
      "_________________________________________________________________\n",
      "activation (Activation)      (None, 78)                0         \n",
      "=================================================================\n",
      "Total params: 2,301,006\n",
      "Trainable params: 2,301,006\n",
      "Non-trainable params: 0\n",
      "_________________________________________________________________\n"
     ]
    }
   ],
   "source": [
    "model.summary()\n"
   ]
  },
  {
   "cell_type": "code",
   "execution_count": 10,
   "metadata": {},
   "outputs": [
    {
     "name": "stdout",
     "output_type": "stream",
     "text": [
      "Epoch 1/50\n",
      "5358/5358 [==============================] - 136s 24ms/step - loss: 2.3894 - accuracy: 0.3257 - val_loss: 1.6090 - val_accuracy: 0.5244\n",
      "\n",
      "Epoch 00001: loss improved from inf to 2.08376, saving model to nextword4.h5\n",
      "Epoch 2/50\n",
      "5358/5358 [==============================] - 127s 24ms/step - loss: 1.7178 - accuracy: 0.4913 - val_loss: 1.4347 - val_accuracy: 0.5741\n",
      "\n",
      "Epoch 00002: loss improved from 2.08376 to 1.67660, saving model to nextword4.h5\n",
      "Epoch 3/50\n",
      "5358/5358 [==============================] - 126s 24ms/step - loss: 1.5504 - accuracy: 0.5380 - val_loss: 1.3624 - val_accuracy: 0.5910\n",
      "\n",
      "Epoch 00003: loss improved from 1.67660 to 1.53940, saving model to nextword4.h5\n",
      "Epoch 4/50\n",
      "5358/5358 [==============================] - 125s 23ms/step - loss: 1.4606 - accuracy: 0.5603 - val_loss: 1.3179 - val_accuracy: 0.6013\n",
      "\n",
      "Epoch 00004: loss improved from 1.53940 to 1.45452, saving model to nextword4.h5\n",
      "Epoch 5/50\n",
      "5358/5358 [==============================] - 125s 23ms/step - loss: 1.3996 - accuracy: 0.5765 - val_loss: 1.2984 - val_accuracy: 0.6098\n",
      "\n",
      "Epoch 00005: loss improved from 1.45452 to 1.39552, saving model to nextword4.h5\n",
      "Epoch 6/50\n",
      "5358/5358 [==============================] - 125s 23ms/step - loss: 1.3473 - accuracy: 0.5904 - val_loss: 1.2793 - val_accuracy: 0.6125\n",
      "\n",
      "Epoch 00006: loss improved from 1.39552 to 1.34730, saving model to nextword4.h5\n",
      "Epoch 7/50\n",
      "5358/5358 [==============================] - 125s 23ms/step - loss: 1.3014 - accuracy: 0.6019 - val_loss: 1.2538 - val_accuracy: 0.6200\n",
      "\n",
      "Epoch 00007: loss improved from 1.34730 to 1.30768, saving model to nextword4.h5\n",
      "Epoch 8/50\n",
      "5358/5358 [==============================] - 125s 23ms/step - loss: 1.2662 - accuracy: 0.6121 - val_loss: 1.2690 - val_accuracy: 0.6167\n",
      "\n",
      "Epoch 00008: loss improved from 1.30768 to 1.27434, saving model to nextword4.h5\n",
      "Epoch 9/50\n",
      "5358/5358 [==============================] - 125s 23ms/step - loss: 1.2365 - accuracy: 0.6211 - val_loss: 1.2599 - val_accuracy: 0.6229\n",
      "\n",
      "Epoch 00009: loss improved from 1.27434 to 1.24562, saving model to nextword4.h5\n",
      "Epoch 10/50\n",
      "5358/5358 [==============================] - 125s 23ms/step - loss: 1.2030 - accuracy: 0.6279 - val_loss: 1.2539 - val_accuracy: 0.6251\n",
      "\n",
      "Epoch 00010: loss improved from 1.24562 to 1.21324, saving model to nextword4.h5\n",
      "Epoch 11/50\n",
      "5358/5358 [==============================] - 125s 23ms/step - loss: 1.1688 - accuracy: 0.6359 - val_loss: 1.2489 - val_accuracy: 0.6288\n",
      "\n",
      "Epoch 00011: loss improved from 1.21324 to 1.18471, saving model to nextword4.h5\n",
      "Epoch 12/50\n",
      "5358/5358 [==============================] - 125s 23ms/step - loss: 1.1431 - accuracy: 0.6426 - val_loss: 1.2570 - val_accuracy: 0.6291\n",
      "\n",
      "Epoch 00012: loss improved from 1.18471 to 1.15895, saving model to nextword4.h5\n",
      "Epoch 13/50\n",
      "5358/5358 [==============================] - 125s 23ms/step - loss: 1.1189 - accuracy: 0.6487 - val_loss: 1.2519 - val_accuracy: 0.6272\n",
      "\n",
      "Epoch 00013: loss improved from 1.15895 to 1.13580, saving model to nextword4.h5\n",
      "Epoch 14/50\n",
      "5358/5358 [==============================] - 125s 23ms/step - loss: 1.1001 - accuracy: 0.6529 - val_loss: 1.2649 - val_accuracy: 0.6252\n",
      "\n",
      "Epoch 00014: loss improved from 1.13580 to 1.11487, saving model to nextword4.h5\n",
      "Epoch 15/50\n",
      "5358/5358 [==============================] - 124s 23ms/step - loss: 1.0788 - accuracy: 0.6590 - val_loss: 1.2660 - val_accuracy: 0.6290\n",
      "\n",
      "Epoch 00015: loss improved from 1.11487 to 1.09613, saving model to nextword4.h5\n",
      "Epoch 16/50\n",
      "5358/5358 [==============================] - 125s 23ms/step - loss: 1.0629 - accuracy: 0.6624 - val_loss: 1.2776 - val_accuracy: 0.6273\n",
      "\n",
      "Epoch 00016: loss improved from 1.09613 to 1.07868, saving model to nextword4.h5\n",
      "Epoch 17/50\n",
      "5358/5358 [==============================] - 125s 23ms/step - loss: 1.0393 - accuracy: 0.6707 - val_loss: 1.2870 - val_accuracy: 0.6268\n",
      "\n",
      "Epoch 00017: loss improved from 1.07868 to 1.06075, saving model to nextword4.h5\n",
      "Epoch 18/50\n",
      "5358/5358 [==============================] - 125s 23ms/step - loss: 1.0238 - accuracy: 0.6749 - val_loss: 1.2972 - val_accuracy: 0.6237\n",
      "\n",
      "Epoch 00018: loss improved from 1.06075 to 1.04440, saving model to nextword4.h5\n",
      "Epoch 19/50\n",
      "5358/5358 [==============================] - 125s 23ms/step - loss: 1.0080 - accuracy: 0.6778 - val_loss: 1.3023 - val_accuracy: 0.6241\n",
      "\n",
      "Epoch 00019: loss improved from 1.04440 to 1.02813, saving model to nextword4.h5\n",
      "Epoch 20/50\n",
      "5358/5358 [==============================] - 125s 23ms/step - loss: 0.9924 - accuracy: 0.6838 - val_loss: 1.3137 - val_accuracy: 0.6261\n",
      "\n",
      "Epoch 00020: loss improved from 1.02813 to 1.01271, saving model to nextword4.h5\n",
      "Epoch 21/50\n",
      "5358/5358 [==============================] - 125s 23ms/step - loss: 0.9750 - accuracy: 0.6884 - val_loss: 1.3250 - val_accuracy: 0.6231\n",
      "\n",
      "Epoch 00021: loss improved from 1.01271 to 0.99818, saving model to nextword4.h5\n",
      "Epoch 22/50\n",
      "5358/5358 [==============================] - 125s 23ms/step - loss: 0.9629 - accuracy: 0.6923 - val_loss: 1.3333 - val_accuracy: 0.6227\n",
      "\n",
      "Epoch 00022: loss improved from 0.99818 to 0.98381, saving model to nextword4.h5\n",
      "Epoch 23/50\n",
      "5358/5358 [==============================] - 125s 23ms/step - loss: 0.9477 - accuracy: 0.6971 - val_loss: 1.3524 - val_accuracy: 0.6231\n",
      "\n",
      "Epoch 00023: loss improved from 0.98381 to 0.96973, saving model to nextword4.h5\n",
      "Epoch 24/50\n",
      "5358/5358 [==============================] - 125s 23ms/step - loss: 0.9355 - accuracy: 0.7018 - val_loss: 1.3756 - val_accuracy: 0.6208\n",
      "\n",
      "Epoch 00024: loss improved from 0.96973 to 0.95556, saving model to nextword4.h5\n",
      "Epoch 25/50\n",
      "5358/5358 [==============================] - 125s 23ms/step - loss: 0.9168 - accuracy: 0.7055 - val_loss: 1.3490 - val_accuracy: 0.6210\n",
      "\n",
      "Epoch 00025: loss improved from 0.95556 to 0.94325, saving model to nextword4.h5\n",
      "Epoch 26/50\n",
      "5358/5358 [==============================] - 125s 23ms/step - loss: 0.9049 - accuracy: 0.7096 - val_loss: 1.3792 - val_accuracy: 0.6229\n",
      "\n",
      "Epoch 00026: loss improved from 0.94325 to 0.93066, saving model to nextword4.h5\n",
      "Epoch 27/50\n",
      "5358/5358 [==============================] - 125s 23ms/step - loss: 0.8952 - accuracy: 0.7126 - val_loss: 1.4061 - val_accuracy: 0.6198\n",
      "\n",
      "Epoch 00027: loss improved from 0.93066 to 0.91895, saving model to nextword4.h5\n",
      "Epoch 28/50\n",
      "5358/5358 [==============================] - 125s 23ms/step - loss: 0.8811 - accuracy: 0.7167 - val_loss: 1.4079 - val_accuracy: 0.6175\n",
      "\n",
      "Epoch 00028: loss improved from 0.91895 to 0.90744, saving model to nextword4.h5\n",
      "Epoch 29/50\n",
      "5358/5358 [==============================] - 124s 23ms/step - loss: 0.8730 - accuracy: 0.7189 - val_loss: 1.4334 - val_accuracy: 0.6187\n",
      "\n",
      "Epoch 00029: loss improved from 0.90744 to 0.89526, saving model to nextword4.h5\n",
      "Epoch 30/50\n",
      "5358/5358 [==============================] - 125s 23ms/step - loss: 0.8551 - accuracy: 0.7246 - val_loss: 1.4501 - val_accuracy: 0.6173\n",
      "\n",
      "Epoch 00030: loss improved from 0.89526 to 0.88094, saving model to nextword4.h5\n",
      "Epoch 31/50\n",
      "5358/5358 [==============================] - 125s 23ms/step - loss: 0.8460 - accuracy: 0.7276 - val_loss: 1.4512 - val_accuracy: 0.6138\n",
      "\n",
      "Epoch 00031: loss improved from 0.88094 to 0.87102, saving model to nextword4.h5\n",
      "Epoch 32/50\n",
      "5358/5358 [==============================] - 125s 23ms/step - loss: 0.8403 - accuracy: 0.7290 - val_loss: 1.4511 - val_accuracy: 0.6128\n",
      "\n",
      "Epoch 00032: loss improved from 0.87102 to 0.85999, saving model to nextword4.h5\n",
      "Epoch 33/50\n",
      "5358/5358 [==============================] - 125s 23ms/step - loss: 0.8201 - accuracy: 0.7349 - val_loss: 1.4627 - val_accuracy: 0.6165\n",
      "\n",
      "Epoch 00033: loss improved from 0.85999 to 0.84850, saving model to nextword4.h5\n",
      "Epoch 34/50\n",
      "5358/5358 [==============================] - 124s 23ms/step - loss: 0.8073 - accuracy: 0.7397 - val_loss: 1.4840 - val_accuracy: 0.6167\n",
      "\n",
      "Epoch 00034: loss improved from 0.84850 to 0.83566, saving model to nextword4.h5\n",
      "Epoch 35/50\n",
      "5358/5358 [==============================] - 124s 23ms/step - loss: 0.8007 - accuracy: 0.7410 - val_loss: 1.4887 - val_accuracy: 0.6136\n",
      "\n",
      "Epoch 00035: loss improved from 0.83566 to 0.82520, saving model to nextword4.h5\n",
      "Epoch 36/50\n",
      "5358/5358 [==============================] - 125s 23ms/step - loss: 0.7927 - accuracy: 0.7441 - val_loss: 1.5190 - val_accuracy: 0.6151\n",
      "\n",
      "Epoch 00036: loss improved from 0.82520 to 0.81544, saving model to nextword4.h5\n",
      "Epoch 37/50\n",
      "5358/5358 [==============================] - 125s 23ms/step - loss: 0.7803 - accuracy: 0.7480 - val_loss: 1.5514 - val_accuracy: 0.6119\n",
      "\n",
      "Epoch 00037: loss improved from 0.81544 to 0.80589, saving model to nextword4.h5\n",
      "Epoch 38/50\n",
      "5358/5358 [==============================] - 124s 23ms/step - loss: 0.7689 - accuracy: 0.7524 - val_loss: 1.5563 - val_accuracy: 0.6136\n",
      "\n",
      "Epoch 00038: loss improved from 0.80589 to 0.79535, saving model to nextword4.h5\n",
      "Epoch 39/50\n",
      "5358/5358 [==============================] - 124s 23ms/step - loss: 0.7598 - accuracy: 0.7535 - val_loss: 1.5545 - val_accuracy: 0.6118\n",
      "\n",
      "Epoch 00039: loss improved from 0.79535 to 0.78468, saving model to nextword4.h5\n",
      "Epoch 40/50\n",
      "5358/5358 [==============================] - 125s 23ms/step - loss: 0.7478 - accuracy: 0.7574 - val_loss: 1.5733 - val_accuracy: 0.6106\n",
      "\n",
      "Epoch 00040: loss improved from 0.78468 to 0.77421, saving model to nextword4.h5\n",
      "Epoch 41/50\n",
      "5358/5358 [==============================] - 124s 23ms/step - loss: 0.7414 - accuracy: 0.7598 - val_loss: 1.5731 - val_accuracy: 0.6128\n",
      "\n",
      "Epoch 00041: loss improved from 0.77421 to 0.76657, saving model to nextword4.h5\n",
      "Epoch 42/50\n",
      "5358/5358 [==============================] - 124s 23ms/step - loss: 0.7305 - accuracy: 0.7626 - val_loss: 1.6198 - val_accuracy: 0.6097\n",
      "\n",
      "Epoch 00042: loss improved from 0.76657 to 0.75763, saving model to nextword4.h5\n",
      "Epoch 43/50\n",
      "5358/5358 [==============================] - 124s 23ms/step - loss: 0.7205 - accuracy: 0.7668 - val_loss: 1.6277 - val_accuracy: 0.6070\n",
      "\n",
      "Epoch 00043: loss improved from 0.75763 to 0.74605, saving model to nextword4.h5\n",
      "Epoch 44/50\n",
      "5358/5358 [==============================] - 124s 23ms/step - loss: 0.7120 - accuracy: 0.7693 - val_loss: 1.6314 - val_accuracy: 0.6077\n",
      "\n",
      "Epoch 00044: loss improved from 0.74605 to 0.73795, saving model to nextword4.h5\n",
      "Epoch 45/50\n",
      "5358/5358 [==============================] - 125s 23ms/step - loss: 0.7017 - accuracy: 0.7714 - val_loss: 1.6592 - val_accuracy: 0.6072\n",
      "\n",
      "Epoch 00045: loss improved from 0.73795 to 0.72938, saving model to nextword4.h5\n",
      "Epoch 46/50\n",
      "5358/5358 [==============================] - 124s 23ms/step - loss: 0.6893 - accuracy: 0.7757 - val_loss: 1.6679 - val_accuracy: 0.6094\n",
      "\n",
      "Epoch 00046: loss improved from 0.72938 to 0.71955, saving model to nextword4.h5\n",
      "Epoch 47/50\n",
      "5358/5358 [==============================] - 125s 23ms/step - loss: 0.6863 - accuracy: 0.7774 - val_loss: 1.7002 - val_accuracy: 0.6038\n",
      "\n",
      "Epoch 00047: loss improved from 0.71955 to 0.71131, saving model to nextword4.h5\n",
      "Epoch 48/50\n",
      "5358/5358 [==============================] - 124s 23ms/step - loss: 0.6762 - accuracy: 0.7808 - val_loss: 1.7321 - val_accuracy: 0.6023\n",
      "\n",
      "Epoch 00048: loss improved from 0.71131 to 0.70109, saving model to nextword4.h5\n",
      "Epoch 49/50\n",
      "5358/5358 [==============================] - 125s 23ms/step - loss: 0.6625 - accuracy: 0.7848 - val_loss: 1.7489 - val_accuracy: 0.6065\n",
      "\n",
      "Epoch 00049: loss improved from 0.70109 to 0.68975, saving model to nextword4.h5\n",
      "Epoch 50/50\n",
      "5358/5358 [==============================] - 125s 23ms/step - loss: 0.6598 - accuracy: 0.7857 - val_loss: 1.7291 - val_accuracy: 0.6037\n",
      "\n",
      "Epoch 00050: loss improved from 0.68975 to 0.68406, saving model to nextword4.h5\n"
     ]
    }
   ],
   "source": [
    "#with tf.device('/cpu:0'):\n",
    "model.compile(loss='categorical_crossentropy', optimizer=optimizer, metrics=['accuracy'])\n",
    "history = model.fit(X, y, validation_split=0.05, batch_size=64, epochs=50, shuffle=True, verbose=1, callbacks=[checkpoint, reduce, tensorboard_Visualization]).history"
   ]
  },
  {
   "cell_type": "code",
   "execution_count": null,
   "metadata": {},
   "outputs": [],
   "source": []
  },
  {
   "cell_type": "code",
   "execution_count": 52,
   "metadata": {},
   "outputs": [],
   "source": [
    "model.save('keras_model4.h5')\n",
    "pickle.dump(history, open(\"history.p\", \"wb\"))\n",
    "model = load_model('nextword4.h5')\n",
    "history = pickle.load(open(\"history.p\", \"rb\"))"
   ]
  },
  {
   "cell_type": "code",
   "execution_count": 53,
   "metadata": {},
   "outputs": [
    {
     "data": {
      "image/png": "[encoded data removed]",
      "text/plain": [
       "<Figure size 864x360 with 1 Axes>"
      ]
     },
     "metadata": {},
     "output_type": "display_data"
    }
   ],
   "source": [
    "plt.plot(history['accuracy'])\n",
    "plt.plot(history['val_accuracy'])\n",
    "plt.title('model accuracy')\n",
    "plt.ylabel('accuracy')\n",
    "plt.xlabel('epoch')\n",
    "plt.legend(['train', 'test'], loc='upper left');"
   ]
  },
  {
   "cell_type": "code",
   "execution_count": 61,
   "metadata": {},
   "outputs": [
    {
     "name": "stdout",
     "output_type": "stream",
     "text": [
      "2820/2820 [==============================] - 41s 14ms/step - loss: 0.5651 - accuracy: 0.8305\n"
     ]
    }
   ],
   "source": [
    "results = model.evaluate(X, y, batch_size=128,)"
   ]
  },
  {
   "cell_type": "code",
   "execution_count": 63,
   "metadata": {},
   "outputs": [
    {
     "data": {
      "image/png": "[encoded data removed]",
      "text/plain": [
       "<Figure size 864x360 with 1 Axes>"
      ]
     },
     "metadata": {},
     "output_type": "display_data"
    }
   ],
   "source": [
    "plt.plot(history['loss'])\n",
    "plt.plot(history['val_loss'])\n",
    "plt.title('model loss')\n",
    "plt.ylabel('loss')\n",
    "plt.xlabel('epoch')\n",
    "plt.legend(['train', 'test'], loc='upper left');"
   ]
  },
  {
   "cell_type": "code",
   "execution_count": 64,
   "metadata": {},
   "outputs": [
    {
     "data": {
      "text/plain": [
       "array([[[0., 0., 0., ..., 0., 0., 0.],\n",
       "        [0., 0., 0., ..., 0., 0., 0.],\n",
       "        [0., 0., 0., ..., 0., 0., 0.],\n",
       "        ...,\n",
       "        [0., 0., 0., ..., 0., 0., 0.],\n",
       "        [0., 0., 0., ..., 0., 0., 0.],\n",
       "        [0., 0., 0., ..., 0., 0., 0.]]])"
      ]
     },
     "execution_count": 64,
     "metadata": {},
     "output_type": "execute_result"
    }
   ],
   "source": [
    "def prepare_input(text):\n",
    "    x = np.zeros((1, SEQUENCE_LENGTH, len(chars)))\n",
    "    for t, char in enumerate(text):\n",
    "        x[0, t, char_indices[char]] = 1.\n",
    "        \n",
    "    return x\n",
    "prepare_input(\"This is an example of input for our LSTM\".lower())"
   ]
  },
  {
   "cell_type": "code",
   "execution_count": 65,
   "metadata": {},
   "outputs": [],
   "source": [
    "def sample(preds, top_n=3):\n",
    "    preds = np.asarray(preds).astype('float64')\n",
    "    preds = np.log(preds)\n",
    "    exp_preds = np.exp(preds)\n",
    "    preds = exp_preds / np.sum(exp_preds)\n",
    "    \n",
    "    return heapq.nlargest(top_n, range(len(preds)), preds.take)"
   ]
  },
  {
   "cell_type": "code",
   "execution_count": 66,
   "metadata": {},
   "outputs": [],
   "source": [
    "def predict_completion(text):\n",
    "    original_text = text\n",
    "    generated = text\n",
    "    completion = ''\n",
    "    while True:\n",
    "        x = prepare_input(text)\n",
    "        preds = model.predict(x, verbose=0)[0]\n",
    "        next_index = sample(preds, top_n=1)[0]\n",
    "        next_char = indices_char[next_index]\n",
    "        text = text[1:] + next_char\n",
    "        completion += next_char\n",
    "        \n",
    "        if len(original_text + completion) + 2 > len(original_text) and next_char == ' ':\n",
    "            return completion"
   ]
  },
  {
   "cell_type": "code",
   "execution_count": 67,
   "metadata": {},
   "outputs": [],
   "source": [
    "def predict_completions(text, n=3):\n",
    "    x = prepare_input(text)\n",
    "    preds = model.predict(x, verbose=0)[0]\n",
    "    next_indices = sample(preds, n)\n",
    "    return [indices_char[idx] + predict_completion(text[1:] + indices_char[idx]) for idx in next_indices]"
   ]
  },
  {
   "cell_type": "code",
   "execution_count": 86,
   "metadata": {},
   "outputs": [],
   "source": [
    "quotes = [\n",
    "    \"where is the class happening today at what.\",\n",
    "    \"That which does not kill us makes us ready and makes us stronger.\",\n",
    "    \"You cant seriously be considering to go and attack him\",\n",
    "    \"And those who were seen dancing were thought to be insane by those who could not hear the music.\",\n",
    "    \"It is not a good day today for me as i was attacked by some people today and i got hurt badly\" ,\n",
    "    \"The magical world had never seen such a powerful man untill the day he arrived\"\n",
    "    \n",
    "]"
   ]
  },
  {
   "cell_type": "code",
   "execution_count": 87,
   "metadata": {},
   "outputs": [
    {
     "name": "stdout",
     "output_type": "stream",
     "text": [
      "where is the class happening today at wh\n"
     ]
    },
    {
     "name": "stderr",
     "output_type": "stream",
     "text": [
      "<ipython-input-65-bf39724b6161>:3: RuntimeWarning: divide by zero encountered in log\n",
      "  preds = np.log(preds)\n"
     ]
    },
    {
     "name": "stdout",
     "output_type": "stream",
     "text": [
      "['at ', 'en ', 'y ']\n",
      "\n",
      "that which does not kill us makes us rea\n",
      "['lly ', 'ding ', 'soning ']\n",
      "\n",
      "you cant seriously be considering to go \n",
      "['to ', 'back ', 'for ']\n",
      "\n",
      "and those who were seen dancing were tho\n",
      "['ught ', 'se ', 'me ']\n",
      "\n",
      "it is not a good day today for me as i w\n",
      "['as ', 'ould ', 'ill ']\n",
      "\n",
      "the magical world had never seen such a \n",
      "['perfectly ', 'bright ', 'committed ']\n",
      "\n"
     ]
    }
   ],
   "source": [
    "for q in quotes:\n",
    "    seq = q[:40].lower()\n",
    "    print(seq)\n",
    "    print(predict_completions(seq,3))\n",
    "    print()"
   ]
  },
  {
   "cell_type": "code",
   "execution_count": null,
   "metadata": {},
   "outputs": [],
   "source": []
  }
 ],
 "metadata": {
  "kernelspec": {
   "display_name": "Python 3",
   "language": "python",
   "name": "python3"
  },
  "language_info": {
   "codemirror_mode": {
    "name": "ipython",
    "version": 3
   },
   "file_extension": ".py",
   "mimetype": "text/x-python",
   "name": "python",
   "nbconvert_exporter": "python",
   "pygments_lexer": "ipython3",
   "version": "3.8.8"
  }
 },
 "nbformat": 4,
 "nbformat_minor": 4
}
